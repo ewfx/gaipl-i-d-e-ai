{
 "cells": [
  {
   "cell_type": "code",
   "execution_count": 1,
   "metadata": {},
   "outputs": [
    {
     "ename": "ModuleNotFoundError",
     "evalue": "No module named 'langflow'",
     "output_type": "error",
     "traceback": [
      "\u001b[1;31m---------------------------------------------------------------------------\u001b[0m",
      "\u001b[1;31mModuleNotFoundError\u001b[0m                       Traceback (most recent call last)",
      "Cell \u001b[1;32mIn[1], line 1\u001b[0m\n\u001b[1;32m----> 1\u001b[0m \u001b[38;5;28;01mfrom\u001b[39;00m\u001b[38;5;250m \u001b[39m\u001b[38;5;21;01mlangflow\u001b[39;00m\u001b[38;5;21;01m.\u001b[39;00m\u001b[38;5;21;01mload\u001b[39;00m\u001b[38;5;250m \u001b[39m\u001b[38;5;28;01mimport\u001b[39;00m run_flow_from_json\n\u001b[0;32m      2\u001b[0m TWEAKS \u001b[38;5;241m=\u001b[39m {\n\u001b[0;32m      3\u001b[0m   \u001b[38;5;124m\"\u001b[39m\u001b[38;5;124mChatInput-K2xiM\u001b[39m\u001b[38;5;124m\"\u001b[39m: {},\n\u001b[0;32m      4\u001b[0m   \u001b[38;5;124m\"\u001b[39m\u001b[38;5;124mChatOutput-RoB90\u001b[39m\u001b[38;5;124m\"\u001b[39m: {},\n\u001b[1;32m   (...)\u001b[0m\n\u001b[0;32m     12\u001b[0m   \u001b[38;5;124m\"\u001b[39m\u001b[38;5;124mDuckDuckGoSearchComponent-Tjd8X\u001b[39m\u001b[38;5;124m\"\u001b[39m: {}\n\u001b[0;32m     13\u001b[0m }\n\u001b[0;32m     15\u001b[0m result \u001b[38;5;241m=\u001b[39m run_flow_from_json(flow\u001b[38;5;241m=\u001b[39m\u001b[38;5;124m\"\u001b[39m\u001b[38;5;124mRAG file.json\u001b[39m\u001b[38;5;124m\"\u001b[39m,\n\u001b[0;32m     16\u001b[0m                             input_value\u001b[38;5;241m=\u001b[39m\u001b[38;5;124m\"\u001b[39m\u001b[38;5;124mmessage\u001b[39m\u001b[38;5;124m\"\u001b[39m,\n\u001b[0;32m     17\u001b[0m                             session_id\u001b[38;5;241m=\u001b[39m\u001b[38;5;124m\"\u001b[39m\u001b[38;5;124m\"\u001b[39m, \u001b[38;5;66;03m# provide a session id if you want to use session state\u001b[39;00m\n\u001b[0;32m     18\u001b[0m                             fallback_to_env_vars\u001b[38;5;241m=\u001b[39m\u001b[38;5;28;01mTrue\u001b[39;00m, \u001b[38;5;66;03m# False by default\u001b[39;00m\n\u001b[0;32m     19\u001b[0m                             tweaks\u001b[38;5;241m=\u001b[39mTWEAKS)\n",
      "\u001b[1;31mModuleNotFoundError\u001b[0m: No module named 'langflow'"
     ]
    }
   ],
   "source": [
    "\n",
    "from langflow.load import run_flow_from_json\n",
    "TWEAKS = {\n",
    "  \"ChatInput-K2xiM\": {},\n",
    "  \"ChatOutput-RoB90\": {},\n",
    "  \"Agent-IOZv2\": {},\n",
    "  \"Prompt-pLqEo\": {},\n",
    "  \"AstraDB-1ei5W\": {},\n",
    "  \"ParseDataFrame-2YCm7\": {},\n",
    "  \"File-SveWi\": {},\n",
    "  \"SplitText-uDEHP\": {},\n",
    "  \"AstraDB-OXiZu\": {},\n",
    "  \"DuckDuckGoSearchComponent-Tjd8X\": {}\n",
    "}\n",
    "\n",
    "result = run_flow_from_json(flow=\"RAG file.json\",\n",
    "                            input_value=\"message\",\n",
    "                            session_id=\"\", # provide a session id if you want to use session state\n",
    "                            fallback_to_env_vars=True, # False by default\n",
    "                            tweaks=TWEAKS)"
   ]
  }
 ],
 "metadata": {
  "kernelspec": {
   "display_name": "Python 3",
   "language": "python",
   "name": "python3"
  },
  "language_info": {
   "codemirror_mode": {
    "name": "ipython",
    "version": 3
   },
   "file_extension": ".py",
   "mimetype": "text/x-python",
   "name": "python",
   "nbconvert_exporter": "python",
   "pygments_lexer": "ipython3",
   "version": "3.10.0"
  }
 },
 "nbformat": 4,
 "nbformat_minor": 2
}
